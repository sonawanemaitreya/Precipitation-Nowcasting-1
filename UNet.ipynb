{
 "cells": [
  {
   "cell_type": "code",
   "execution_count": 1,
   "metadata": {},
   "outputs": [],
   "source": [
    "import numpy as np\n",
    "import torch\n",
    "import torch.nn as nn\n",
    "from torch.optim import Adam\n",
    "from torch.utils.data import DataLoader\n",
    "from tqdm.notebook import tqdm\n",
    "import io\n",
    "import imageio\n",
    "import cv2\n",
    "import sys\n",
    "#from pytorch_msssim import ssim\n",
    "from skimage.metrics import structural_similarity as ssim\n",
    "import pickle \n",
    "import torchvision\n",
    "from ipywidgets import widgets, HBox\n",
    "\n",
    "# Use GPU if available\n",
    "device = torch.device('cuda' if torch.cuda.is_available() else 'cpu')"
   ]
  },
  {
   "cell_type": "code",
   "execution_count": 2,
   "metadata": {
    "scrolled": true
   },
   "outputs": [],
   "source": [
    "# import os, os.path, glob\n",
    "\n",
    "# #Radar = np.zeros((458, 250, 501, 501))\n",
    "# file_counter = 0\n",
    "# global_ans = []\n",
    "# gc=0\n",
    "# for foldername in os.listdir(\"nh_radar_comp_echo/\"):\n",
    "#     if foldername=='.DS_Store':\n",
    "#         continue\n",
    "# #     if gc>=5:\n",
    "# #         break\n",
    "#     gc+=1\n",
    "#     list = os.listdir(\"nh_radar_comp_echo/\"+foldername) # dir is your directory path\n",
    "#     number_files = len(list)\n",
    "#     print(gc, \": \", number_files)\n",
    "#     if number_files<240:\n",
    "#         continue\n",
    "#     file_counter+=1\n",
    "#     ls = []\n",
    "#     counter = 0 \n",
    "#     for filename in sorted(os.listdir(\"nh_radar_comp_echo/\"+foldername)):\n",
    "#         if counter>=240:\n",
    "#             break\n",
    "#         counter+=1\n",
    "#         #print(foldername+\"/\"+filename)\n",
    "#         #img = Image.open(\"nh_radar_comp_echo/\"+foldername+\"/\"+filename)\n",
    "#         img = cv2.imread(\"nh_radar_comp_echo/\"+foldername+\"/\"+filename) \n",
    "#         img = cv2.resize(img, (128, 128), interpolation = cv2.INTER_AREA)\n",
    "#         #print('shape of img:', img.shape)\n",
    "#         np_img = np.array(img)\n",
    "#         #Radar[file_counter-1][counter-1] = np_img\n",
    "#         #print(np_img.shape)\n",
    "#         ls.append(np_img)\n",
    "#     f = np.asarray(ls)\n",
    "#     #print(type(f))\n",
    "#     global_ans.append(f)\n",
    "# Radar3 = np.asarray(global_ans)\n",
    "# np.save('unet_radar_128_3', Radar3)\n"
   ]
  },
  {
   "cell_type": "code",
   "execution_count": 2,
   "metadata": {},
   "outputs": [],
   "source": [
    "Radar = np.load('new_radar_20_128fr_cleaned.npy')"
   ]
  },
  {
   "cell_type": "code",
   "execution_count": 3,
   "metadata": {},
   "outputs": [
    {
     "name": "stdout",
     "output_type": "stream",
     "text": [
      "<class 'numpy.ndarray'>\n",
      "(2901, 20, 128, 128)\n",
      "1\n"
     ]
    }
   ],
   "source": [
    "print(type(Radar))\n",
    "print(Radar.shape)\n",
    "print(Radar.itemsize)"
   ]
  },
  {
   "cell_type": "code",
   "execution_count": 5,
   "metadata": {},
   "outputs": [],
   "source": [
    "#Radar2.resize((5784, 20, 128, 128))"
   ]
  },
  {
   "cell_type": "code",
   "execution_count": 6,
   "metadata": {},
   "outputs": [],
   "source": [
    "# print(np.max(Radar2))\n",
    "# print(np.min(Radar2))"
   ]
  },
  {
   "cell_type": "code",
   "execution_count": 7,
   "metadata": {},
   "outputs": [],
   "source": [
    "# from scipy.stats import iqr\n",
    "\n",
    "# op = []\n",
    "# for i in range(0, 5725):\n",
    "#     for j in range(0, 20):\n",
    "#         op.append(np.sum(Radar2[i][j]))\n",
    "        \n",
    "# st = np.asarray(op)\n",
    "# print(st.shape)"
   ]
  },
  {
   "cell_type": "code",
   "execution_count": 8,
   "metadata": {},
   "outputs": [],
   "source": [
    "# n25 = np.percentile(st, 25)\n",
    "# n75 = np.percentile(st, 75)\n",
    "\n",
    "# print(n25, n75)"
   ]
  },
  {
   "cell_type": "code",
   "execution_count": 9,
   "metadata": {},
   "outputs": [],
   "source": [
    "# gl = []\n",
    "# maxp = -1\n",
    "# minp = sys.maxsize\n",
    "# for i in range(0, 5725):\n",
    "#     no_bad = 0;\n",
    "#     for j in range(0, 20):\n",
    "#         sum_fr = np.sum(Radar2[i][j])\n",
    "#         if sum_fr<n25 or sum_fr>n75:\n",
    "#             no_bad+=1\n",
    "#     if no_bad<=10:\n",
    "#         gl.append(Radar2[i])\n",
    "# Radar = np.asarray(gl)"
   ]
  },
  {
   "cell_type": "code",
   "execution_count": 4,
   "metadata": {},
   "outputs": [
    {
     "name": "stdout",
     "output_type": "stream",
     "text": [
      "(2901, 20, 128, 128)\n"
     ]
    }
   ],
   "source": [
    "np.random.shuffle(Radar)\n",
    "print(Radar.shape)"
   ]
  },
  {
   "cell_type": "code",
   "execution_count": 5,
   "metadata": {},
   "outputs": [],
   "source": [
    "# Train, Test, Validation splits\n",
    "train_data = Radar[:2000]         \n",
    "val_data = Radar[2000:2500]       \n",
    "test_data = Radar[2500:2900]     \n",
    "\n",
    "def collate(batch):\n",
    "\n",
    "    # Add channel dim, scale pixels between 0 and 1, send to GPU\n",
    "    batch = torch.tensor(batch).unsqueeze(1)     \n",
    "    batch = batch / 255.0                        \n",
    "    batch = batch.to(device)                     \n",
    "\n",
    "    # Randomly pick 10 frames as input, 11th frame is target\n",
    "    rand = np.random.randint(16,20)                     \n",
    "    return batch[:,:,rand-16:rand], batch[:,:,rand]     \n",
    "\n",
    "\n",
    "# Training Data Loader\n",
    "train_loader = DataLoader(train_data, shuffle=True, \n",
    "                        batch_size=2, collate_fn=collate)\n",
    "\n",
    "# Validation Data Loader\n",
    "val_loader = DataLoader(val_data, shuffle=True, \n",
    "                        batch_size=2, collate_fn=collate)"
   ]
  },
  {
   "cell_type": "code",
   "execution_count": 6,
   "metadata": {},
   "outputs": [],
   "source": [
    "class Block(nn.Module):\n",
    "    def __init__(self, in_ch, out_ch):\n",
    "        super().__init__()\n",
    "        self.conv1 = nn.Conv2d(in_ch, out_ch, 3, padding=1)\n",
    "        self.relu  = nn.ReLU()\n",
    "        self.conv2 = nn.Conv2d(out_ch, out_ch, 3, padding=1)\n",
    "    \n",
    "    def forward(self, x):\n",
    "        #print(x.shape)\n",
    "        y = self.conv1(x)\n",
    "        #print('surpassed this')\n",
    "        return self.conv2(self.relu(y))\n",
    "\n",
    "\n",
    "class Encoder(nn.Module):\n",
    "    #def __init__(self, chs=(3,64,128,256,512,1024)):\n",
    "    def __init__(self, chs=(16,64,128,256)):\n",
    "        super().__init__()\n",
    "        l = [Block(chs[i], chs[i+1]) for i in range(len(chs)-1)]\n",
    "        #print(l)\n",
    "        self.enc_blocks = nn.ModuleList(l)\n",
    "        self.pool       = nn.MaxPool2d(2)\n",
    "    \n",
    "    def forward(self, x):\n",
    "        ftrs = []\n",
    "        for block in self.enc_blocks:\n",
    "            x = block(x)\n",
    "            #print('enc block output:', x.shape)\n",
    "            ftrs.append(x)\n",
    "            #print('ftrs shape:', x.shape)\n",
    "            x = self.pool(x)\n",
    "            #print('after pool:', x.shape)\n",
    "        return ftrs\n",
    "\n",
    "\n",
    "class Decoder(nn.Module):\n",
    "    #def __init__(self, chs=(1024, 512, 256, 128, 64)):\n",
    "    def __init__(self, chs=(256, 128, 64)):\n",
    "        super().__init__()\n",
    "        self.chs         = chs\n",
    "        self.upconvs    = nn.ModuleList([nn.ConvTranspose2d(chs[i], chs[i+1], 2, 2) for i in range(len(chs)-1)])\n",
    "        self.dec_blocks = nn.ModuleList([Block(chs[i], chs[i+1]) for i in range(len(chs)-1)]) \n",
    "        \n",
    "    def forward(self, x, encoder_features):\n",
    "        #print(len(x), len(encoder_features))\n",
    "        for i in range(len(self.chs)-1):\n",
    "            x        = self.upconvs[i](x)\n",
    "            #print('forward to crop x and enc:', x.shape, encoder_features[i].shape)\n",
    "            enc_ftrs = self.crop(encoder_features[i], x)\n",
    "            #print('forward shapes of x and enc_fts:', x.shape, enc_ftrs.shape)\n",
    "            x        = torch.cat([x, enc_ftrs], dim=1)\n",
    "            x        = self.dec_blocks[i](x)\n",
    "        return x\n",
    "    \n",
    "    def crop(self, enc_ftrs, x):\n",
    "        _, _, H, W = x.shape\n",
    "        enc_ftrs   = torchvision.transforms.CenterCrop([H, W])(enc_ftrs)\n",
    "        #print('crop output shape', enc_ftrs.shape)\n",
    "        return enc_ftrs\n",
    "\n",
    "\n",
    "class UNet(nn.Module):\n",
    "    def __init__(self, enc_chs=(16,64,128,256), dec_chs=(256, 128, 64), num_class=1, retain_dim=False, out_sz=(128,128)):\n",
    "        super().__init__()\n",
    "        self.encoder     = Encoder(enc_chs)\n",
    "        self.decoder     = Decoder(dec_chs)\n",
    "        self.head        = nn.Conv2d(dec_chs[-1], num_class, 1)\n",
    "        self.retain_dim  = retain_dim\n",
    "\n",
    "    def forward(self, x):\n",
    "        enc_ftrs = self.encoder(x)\n",
    "        #for ftr in enc_ftrs: print(ftr.shape)\n",
    "        #print('decoder input:', enc_ftrs[::-1][0].shape, enc_ftrs[::-1][1:].shape)\n",
    "        out      = self.decoder(enc_ftrs[::-1][0], enc_ftrs[::-1][1:])\n",
    "        #print('decoder output:', out.shape)\n",
    "        out      = self.head(out)\n",
    "        if self.retain_dim:\n",
    "            out = F.interpolate(out, out_sz)\n",
    "        return out"
   ]
  },
  {
   "cell_type": "code",
   "execution_count": 7,
   "metadata": {},
   "outputs": [],
   "source": [
    "model = UNet().to(device)\n",
    "optim = Adam(model.parameters(), lr=1e-3)\n",
    "\n",
    "# Binary Cross Entropy, target pixel values either 0 or 1\n",
    "criterion = nn.MSELoss(reduction='sum')\n",
    "\n",
    "num_epochs = 5"
   ]
  },
  {
   "cell_type": "code",
   "execution_count": 8,
   "metadata": {},
   "outputs": [],
   "source": [
    "def calculate_psnr(target, output):\n",
    "    \"\"\"\n",
    "    Calculate Peak Signal To Noise Ratio\n",
    "    Input: torch tensor of shape (m, C, H, W)\n",
    "    Output: average of PSTR for that batch\n",
    "    \"\"\"\n",
    "    \n",
    "    m, C, H, W = target.shape\n",
    "    sum_psnr = 0 \n",
    "    \n",
    "    for i in range(m):\n",
    "        output[i] = torch.clamp(output[i], min=0.0, max=1.0)\n",
    "        mse = torch.sum((target[i] - output[i])**2)/(C*H*W)\n",
    "        psnr =  -10*torch.log10(mse)\n",
    "        sum_psnr += psnr\n",
    "        \n",
    "    return sum_psnr"
   ]
  },
  {
   "cell_type": "code",
   "execution_count": 9,
   "metadata": {
    "scrolled": false
   },
   "outputs": [
    {
     "name": "stdout",
     "output_type": "stream",
     "text": [
      "Epoch:1 Training Loss:2.30 psnr_train:44.16 ssim_train:0.49 Validation Loss:1.23 psnr_val:45.12 ssim_val:0.49\n",
      "\n",
      "Epoch:2 Training Loss:1.60 psnr_train:45.48 ssim_train:0.49 Validation Loss:1.25 psnr_val:45.03 ssim_val:0.49\n",
      "\n",
      "Epoch:3 Training Loss:1.17 psnr_train:46.37 ssim_train:0.50 Validation Loss:1.03 psnr_val:46.28 ssim_val:0.50\n",
      "\n",
      "Epoch:4 Training Loss:1.10 psnr_train:46.64 ssim_train:0.50 Validation Loss:1.05 psnr_val:44.13 ssim_val:0.49\n",
      "\n",
      "Epoch:5 Training Loss:0.96 psnr_train:47.01 ssim_train:0.50 Validation Loss:0.90 psnr_val:46.76 ssim_val:0.50\n",
      "\n"
     ]
    }
   ],
   "source": [
    "\n",
    "\n",
    "epi=0\n",
    "ep = []\n",
    "tr_loss = []\n",
    "va_loss = []\n",
    "for epoch in range(1, num_epochs+1):\n",
    "    epi+=1\n",
    "    train_loss = 0 \n",
    "    psnr_train = 0\n",
    "    psnr_val =0\n",
    "    ssim_train = 0\n",
    "    ssim_val = 0\n",
    "    model.train()                                                  \n",
    "    for batch_num, (input, target) in enumerate(train_loader, 1):  \n",
    "        input = torch.squeeze(input, axis=1)\n",
    "        #print(type(input), input.shape)\n",
    "        #input = input.permute(0, 4, 1, 2, 3)\n",
    "        #print('input shape:', input.shape)\n",
    "        output = model(input) \n",
    "        #print(output)\n",
    "        #print('output shape:', output.shape, 'target shape:', target.shape)\n",
    "        loss = criterion(output.flatten(), target.flatten())       \n",
    "        loss.backward()                                            \n",
    "        optim.step()                                               \n",
    "        optim.zero_grad()                                           \n",
    "        train_loss += loss.item()\n",
    "        psnr_train+=calculate_psnr(target, output)\n",
    "        ot = output.flatten().cpu()\n",
    "        tt = target.flatten().cpu()\n",
    "        ssim_train+=ssim(ot.detach().numpy(), tt.detach().numpy())\n",
    "        #ssim_train+=ssim(output, target)\n",
    "    train_loss /= len(train_loader.dataset)  \n",
    "    psnr_train/= len(train_loader.dataset) \n",
    "    ssim_train/=len(train_loader.dataset)\n",
    "    tr_loss.append(train_loss)\n",
    "    \n",
    "    val_loss = 0                                                 \n",
    "    model.eval()                                                   \n",
    "    with torch.no_grad():                                          \n",
    "        for input, target in val_loader:  \n",
    "            input = np.squeeze(input, axis=1)\n",
    "            output = model(input)   \n",
    "            #output = output.permute(0, 2, 3, 4, 1)\n",
    "            #output = torch.unsqueeze(output, axis = 1)\n",
    "            loss = criterion(output.flatten(), target.flatten())   \n",
    "            val_loss += loss.item()\n",
    "            psnr_val+=calculate_psnr(target, output)\n",
    "            ot = output.flatten().cpu()\n",
    "            tt = target.flatten().cpu()\n",
    "            ssim_val+=ssim(ot.detach().numpy(), tt.detach().numpy())\n",
    "            #ssim_val+=ssim(output, target)\n",
    "    val_loss /= len(val_loader.dataset) \n",
    "    psnr_val/= len(val_loader.dataset)\n",
    "    ssim_val/=len(val_loader.dataset)\n",
    "    va_loss.append(val_loss)\n",
    "    #print(\"Epoch:{} Training Loss:{:.2f} Validation Loss:{:.2f}\\n\".format(\n",
    "        #epoch, train_loss, val_loss))\n",
    "    print(\"Epoch:{} Training Loss:{:.2f} psnr_train:{:.2f} ssim_train:{:.2f} Validation Loss:{:.2f} psnr_val:{:.2f} ssim_val:{:.2f}\\n\".format(\n",
    "        epoch, train_loss, psnr_train, ssim_train, val_loss, psnr_val, ssim_val))"
   ]
  },
  {
   "cell_type": "code",
   "execution_count": 101,
   "metadata": {},
   "outputs": [
    {
     "data": {
      "image/png": "[encoded data removed]",
      "text/plain": [
       "<Figure size 576x432 with 1 Axes>"
      ]
     },
     "metadata": {
      "needs_background": "light"
     },
     "output_type": "display_data"
    }
   ],
   "source": [
    "from matplotlib import pyplot as plt\n",
    "\n",
    "f = plt.figure()\n",
    "f.set_figwidth(8)\n",
    "f.set_figheight(6)\n",
    "plt.xlabel(\"Number of epochs\", fontsize = 17)\n",
    "plt.ylabel(\"Training loss (%)\", fontsize = 17)\n",
    "\n",
    "\n",
    "plt.plot(ep, tr_loss)\n",
    "plt.show()"
   ]
  },
  {
   "cell_type": "code",
   "execution_count": 102,
   "metadata": {},
   "outputs": [
    {
     "data": {
      "image/png": "[encoded data removed]",
      "text/plain": [
       "<Figure size 576x432 with 1 Axes>"
      ]
     },
     "metadata": {
      "needs_background": "light"
     },
     "output_type": "display_data"
    }
   ],
   "source": [
    "f = plt.figure()\n",
    "f.set_figwidth(8)\n",
    "f.set_figheight(6)\n",
    "plt.xlabel(\"Number of epochs\", fontsize = 17)\n",
    "plt.ylabel(\"Validation loss (%)\", fontsize = 17)\n",
    "\n",
    "\n",
    "plt.plot(ep, va_loss)\n",
    "plt.show()"
   ]
  },
  {
   "cell_type": "code",
   "execution_count": 33,
   "metadata": {
    "scrolled": true
   },
   "outputs": [],
   "source": [
    "Pkl_Filename = \"psnr_ssim_modelUNet_5ep_2bs_3ks.pkl\"  \n",
    "\n",
    "with open(Pkl_Filename, 'wb') as file:  \n",
    "    pickle.dump(model, file)"
   ]
  },
  {
   "cell_type": "code",
   "execution_count": 9,
   "metadata": {},
   "outputs": [],
   "source": [
    "with open('psnr_ssim_modelUNet_5ep_2bs_3ks.pkl', 'rb') as file:  \n",
    "    model = pickle.load(file)"
   ]
  },
  {
   "cell_type": "code",
   "execution_count": 10,
   "metadata": {},
   "outputs": [],
   "source": [
    "def collate_test(batch):\n",
    "\n",
    "    # Last 10 frames are target\n",
    "    target = np.array(batch)[:,16:]                     \n",
    "    \n",
    "    # Add channel dim, scale pixels between 0 and 1, send to GPU\n",
    "    batch = torch.tensor(batch).unsqueeze(1)          \n",
    "    batch = batch / 255.0                             \n",
    "    batch = batch.to(device)                          \n",
    "    return batch, target\n",
    "\n",
    "# Test Data Loader\n",
    "test_loader = DataLoader(test_data,shuffle=True, \n",
    "                         batch_size=3, collate_fn=collate_test)\n",
    "\n",
    "\n",
    "# Get a batch\n",
    "batch, target = next(iter(test_loader))"
   ]
  },
  {
   "cell_type": "code",
   "execution_count": 11,
   "metadata": {},
   "outputs": [],
   "source": [
    "# Initialize output sequence\n",
    "output = np.zeros(target.shape, dtype=np.uint8)\n",
    "\n",
    "# Loop over timesteps\n",
    "for timestep in range(target.shape[1]):\n",
    "    input = batch[:,:,timestep:timestep+16] \n",
    "    input = torch.squeeze(input, axis=1)\n",
    "    last_out = model(input).squeeze(1).cpu()\n",
    "    #output image copied in the batch from which we are taking the \n",
    "    #next input, hence using the current output image as input \n",
    "    #for next frame prediction. By doing so, we predict 4 frames in\n",
    "    #future by using current 16 frames\n",
    "    batch[:,:,16+timestep] = torch.unsqueeze(last_out, dim=1) \n",
    "    output[:,timestep]=(last_out>0.07)*255.0"
   ]
  },
  {
   "cell_type": "code",
   "execution_count": 12,
   "metadata": {
    "scrolled": true
   },
   "outputs": [
    {
     "data": {
      "application/vnd.jupyter.widget-view+json": {
       "model_id": "33f9ff39b2dd46558685a91680f6bec1",
       "version_major": 2,
       "version_minor": 0
      },
      "text/plain": [
       "HBox(children=(Image(value=b'GIF89a\\x80\\x00\\x80\\x00\\x87\\x00\\x00>>>222(((\\x1e\\x1e\\x1e\\x1c\\x1c\\x1c\\x19\\x19\\x19\\x…"
      ]
     },
     "metadata": {},
     "output_type": "display_data"
    },
    {
     "data": {
      "application/vnd.jupyter.widget-view+json": {
       "model_id": "1f262147886a416397ff627b24a24cba",
       "version_major": 2,
       "version_minor": 0
      },
      "text/plain": [
       "HBox(children=(Image(value=b'GIF89a\\x80\\x00\\x80\\x00\\x87\\x00\\x00|||tttssslllgggfffccc___\\\\\\\\\\\\[[[SSSRRRNNNJJJII…"
      ]
     },
     "metadata": {},
     "output_type": "display_data"
    },
    {
     "data": {
      "application/vnd.jupyter.widget-view+json": {
       "model_id": "4ec87532e7084e38a9736105962d8370",
       "version_major": 2,
       "version_minor": 0
      },
      "text/plain": [
       "HBox(children=(Image(value=b'GIF89a\\x80\\x00\\x80\\x00\\x87\\x00\\x00\\x05\\x05\\x05\\x04\\x04\\x04\\x03\\x03\\x03\\x02\\x02\\x0…"
      ]
     },
     "metadata": {},
     "output_type": "display_data"
    }
   ],
   "source": [
    "for tgt, out in zip(target, output):       # Loop over samples\n",
    "    \n",
    "    # Write target video as gif\n",
    "    with io.BytesIO() as gif:\n",
    "        imageio.mimsave(gif, tgt, \"GIF\", fps = 2)    \n",
    "        target_gif = gif.getvalue()\n",
    "\n",
    "    # Write output video as gif\n",
    "    with io.BytesIO() as gif:\n",
    "        imageio.mimsave(gif, out, \"GIF\", fps = 2)    \n",
    "        output_gif = gif.getvalue()\n",
    "\n",
    "    display(HBox([widgets.Image(value=target_gif, height=400, width=400), \n",
    "                  widgets.Image(value=output_gif, height=400, width=400)]))"
   ]
  },
  {
   "cell_type": "code",
   "execution_count": 13,
   "metadata": {},
   "outputs": [
    {
     "name": "stdout",
     "output_type": "stream",
     "text": [
      "PSNR for test dataset: {:.2f} tensor(47.2862, device='cuda:0')\n",
      "SSIM for test dataset: {:.2f} 0.9929335054807256\n"
     ]
    }
   ],
   "source": [
    "test_loader_nu = DataLoader(test_data, shuffle=True, \n",
    "                        batch_size=1, collate_fn=collate)\n",
    "\n",
    "ssim_test = 0\n",
    "psnr_test = 0\n",
    "\n",
    "model.eval()                                                   \n",
    "with torch.no_grad():                                          \n",
    "    for input, target in test_loader_nu:  \n",
    "        input = np.squeeze(input, axis=1)\n",
    "        output = model(input)   \n",
    "        output = torch.mean(output, 1)\n",
    "        output = torch.unsqueeze(output, dim=1) \n",
    "        psnr_test+=calculate_psnr(target, output)\n",
    "        ot = output.flatten().cpu()\n",
    "        tt = target.flatten().cpu()\n",
    "        ssim_test+=ssim(ot.detach().numpy(), tt.detach().numpy())\n",
    "psnr_test/= len(test_loader_nu.dataset)\n",
    "ssim_test/=len(test_loader_nu.dataset)\n",
    "print(\"PSNR for test dataset: {:.2f}\", psnr_test)\n",
    "print(\"SSIM for test dataset: {:.2f}\", ssim_test)"
   ]
  },
  {
   "cell_type": "code",
   "execution_count": 15,
   "metadata": {},
   "outputs": [
    {
     "name": "stdout",
     "output_type": "stream",
     "text": [
      "PSNR for test dataset: 47.28620148\n",
      "SSIM for test dataset: 0.99293351\n"
     ]
    }
   ],
   "source": [
    "print(\"PSNR for test dataset: {:.8f}\".format(psnr_test.item()))\n",
    "print(\"SSIM for test dataset: {:.8f}\".format(ssim_test))"
   ]
  },
  {
   "cell_type": "code",
   "execution_count": null,
   "metadata": {},
   "outputs": [],
   "source": []
  }
 ],
 "metadata": {
  "kernelspec": {
   "display_name": "Python 3",
   "language": "python",
   "name": "python3"
  },
  "language_info": {
   "codemirror_mode": {
    "name": "ipython",
    "version": 3
   },
   "file_extension": ".py",
   "mimetype": "text/x-python",
   "name": "python",
   "nbconvert_exporter": "python",
   "pygments_lexer": "ipython3",
   "version": "3.8.6"
  }
 },
 "nbformat": 4,
 "nbformat_minor": 4
}
