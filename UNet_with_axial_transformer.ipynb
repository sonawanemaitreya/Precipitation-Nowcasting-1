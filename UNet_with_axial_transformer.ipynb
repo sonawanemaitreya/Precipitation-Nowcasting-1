{
 "cells": [
  {
   "cell_type": "code",
   "execution_count": 1,
   "metadata": {},
   "outputs": [],
   "source": [
    "#!pip install axial_attention"
   ]
  },
  {
   "cell_type": "code",
   "execution_count": 3,
   "metadata": {},
   "outputs": [],
   "source": [
    "import numpy as np\n",
    "import torch\n",
    "import torch.nn as nn\n",
    "from torch.optim import Adam\n",
    "from torch.utils.data import DataLoader\n",
    "from tqdm.notebook import tqdm\n",
    "import io\n",
    "import imageio\n",
    "import cv2\n",
    "import sys\n",
    "from ipywidgets import widgets, HBox\n",
    "from axial_attention import AxialImageTransformer\n",
    "from axial_attention import AxialAttention\n",
    "from skimage.metrics import structural_similarity as ssim\n",
    "\n",
    "import pickle \n",
    "import torchvision\n",
    "from ipywidgets import widgets, HBox\n",
    "\n",
    "\n",
    "# Use GPU if available\n",
    "device = torch.device('cuda' if torch.cuda.is_available() else 'cpu')"
   ]
  },
  {
   "cell_type": "code",
   "execution_count": 4,
   "metadata": {
    "scrolled": true
   },
   "outputs": [
    {
     "name": "stdout",
     "output_type": "stream",
     "text": [
      "Wed Dec 15 18:30:20 2021       \r\n",
      "+-----------------------------------------------------------------------------+\r\n",
      "| NVIDIA-SMI 465.19.01    Driver Version: 465.19.01    CUDA Version: 11.3     |\r\n",
      "|-------------------------------+----------------------+----------------------+\r\n",
      "| GPU  Name        Persistence-M| Bus-Id        Disp.A | Volatile Uncorr. ECC |\r\n",
      "| Fan  Temp  Perf  Pwr:Usage/Cap|         Memory-Usage | GPU-Util  Compute M. |\r\n",
      "|                               |                      |               MIG M. |\r\n",
      "|===============================+======================+======================|\r\n",
      "|   0  NVIDIA Quadro R...  On   | 00000000:86:00.0 Off |                    0 |\r\n",
      "| N/A   28C    P8    13W / 250W |      3MiB / 45556MiB |      0%      Default |\r\n",
      "|                               |                      |                  N/A |\r\n",
      "+-------------------------------+----------------------+----------------------+\r\n",
      "                                                                               \r\n",
      "+-----------------------------------------------------------------------------+\r\n",
      "| Processes:                                                                  |\r\n",
      "|  GPU   GI   CI        PID   Type   Process name                  GPU Memory |\r\n",
      "|        ID   ID                                                   Usage      |\r\n",
      "|=============================================================================|\r\n",
      "|  No running processes found                                                 |\r\n",
      "+-----------------------------------------------------------------------------+\r\n"
     ]
    }
   ],
   "source": [
    "!nvidia-smi"
   ]
  },
  {
   "cell_type": "code",
   "execution_count": 5,
   "metadata": {},
   "outputs": [],
   "source": [
    "Radar = np.load('new_radar_20_128fr_cleaned.npy')"
   ]
  },
  {
   "cell_type": "code",
   "execution_count": 6,
   "metadata": {},
   "outputs": [
    {
     "name": "stdout",
     "output_type": "stream",
     "text": [
      "<class 'numpy.ndarray'>\n",
      "(2901, 20, 128, 128)\n",
      "1\n"
     ]
    }
   ],
   "source": [
    "print(type(Radar))\n",
    "print(Radar.shape)\n",
    "print(Radar.itemsize)"
   ]
  },
  {
   "cell_type": "code",
   "execution_count": 7,
   "metadata": {},
   "outputs": [
    {
     "name": "stdout",
     "output_type": "stream",
     "text": [
      "(2901, 20, 128, 128)\n"
     ]
    }
   ],
   "source": [
    "np.random.shuffle(Radar)\n",
    "print(Radar.shape)"
   ]
  },
  {
   "cell_type": "code",
   "execution_count": 8,
   "metadata": {},
   "outputs": [],
   "source": [
    "# Train, Test, Validation splits\n",
    "train_data = Radar[:2000]         \n",
    "val_data = Radar[2000:2500]       \n",
    "test_data = Radar[2500:2900]     \n",
    "\n",
    "def collate(batch):\n",
    "\n",
    "    # Add channel dim, scale pixels between 0 and 1, send to GPU\n",
    "    batch = torch.tensor(batch).unsqueeze(1)     \n",
    "    batch = batch / 255.0                        \n",
    "    batch = batch.to(device)                     \n",
    "\n",
    "    # Randomly pick 10 frames as input, 11th frame is target\n",
    "    rand = np.random.randint(16,20)                     \n",
    "    return batch[:,:,rand-16:rand], batch[:,:,rand]     \n",
    "\n",
    "\n",
    "# Training Data Loader\n",
    "train_loader = DataLoader(train_data, shuffle=True, \n",
    "                        batch_size=1, collate_fn=collate)\n",
    "\n",
    "# Validation Data Loader\n",
    "val_loader = DataLoader(val_data, shuffle=True, \n",
    "                        batch_size=1, collate_fn=collate)"
   ]
  },
  {
   "cell_type": "code",
   "execution_count": 9,
   "metadata": {},
   "outputs": [],
   "source": [
    "class Block(nn.Module):\n",
    "    def __init__(self, in_ch, out_ch):\n",
    "        super().__init__()\n",
    "        self.conv1 = nn.Conv2d(in_ch, out_ch, 3, padding=1)\n",
    "        self.relu  = nn.ReLU()\n",
    "        self.conv2 = nn.Conv2d(out_ch, out_ch, 3, padding=1)\n",
    "    \n",
    "    def forward(self, x):\n",
    "        #print(x.shape)\n",
    "        y = self.conv1(x)\n",
    "        #print('surpassed this')\n",
    "        return self.conv2(self.relu(y))\n",
    "\n",
    "\n",
    "class Encoder(nn.Module):\n",
    "    #def __init__(self, chs=(3,64,128,256,512,1024)):\n",
    "    def __init__(self, chs=(16,64,128,256)):\n",
    "        super().__init__()\n",
    "        l = [Block(chs[i], chs[i+1]) for i in range(len(chs)-1)]\n",
    "        #print(l)\n",
    "        self.enc_blocks = nn.ModuleList(l)\n",
    "        self.pool       = nn.MaxPool2d(2)\n",
    "    \n",
    "    def forward(self, x):\n",
    "        ftrs = []\n",
    "        for block in self.enc_blocks:\n",
    "            x = block(x)\n",
    "            #print('enc block output:', x.shape)\n",
    "            ftrs.append(x)\n",
    "            #print('ftrs shape:', x.shape)\n",
    "            x = self.pool(x)\n",
    "            #print('after pool:', x.shape)\n",
    "        return ftrs\n",
    "\n",
    "\n",
    "class Decoder(nn.Module):\n",
    "    #def __init__(self, chs=(1024, 512, 256, 128, 64)):\n",
    "    def __init__(self, chs=(256, 128, 64)):\n",
    "        super().__init__()\n",
    "        self.chs         = chs\n",
    "        self.upconvs    = nn.ModuleList([nn.ConvTranspose2d(chs[i], chs[i+1], 2, 2) for i in range(len(chs)-1)])\n",
    "        self.dec_blocks = nn.ModuleList([Block(chs[i], chs[i+1]) for i in range(len(chs)-1)]) \n",
    "        \n",
    "    def forward(self, x, encoder_features):\n",
    "        #print(len(x), len(encoder_features))\n",
    "        for i in range(len(self.chs)-1):\n",
    "            x        = self.upconvs[i](x)\n",
    "            #print('forward to crop x and enc:', x.shape, encoder_features[i].shape)\n",
    "            enc_ftrs = self.crop(encoder_features[i], x)\n",
    "            #print('forward shapes of x and enc_fts:', x.shape, enc_ftrs.shape)\n",
    "            x        = torch.cat([x, enc_ftrs], dim=1)\n",
    "            x        = self.dec_blocks[i](x)\n",
    "        return x\n",
    "    \n",
    "    def crop(self, enc_ftrs, x):\n",
    "        _, _, H, W = x.shape\n",
    "        enc_ftrs   = torchvision.transforms.CenterCrop([H, W])(enc_ftrs)\n",
    "        #print('crop output shape', enc_ftrs.shape)\n",
    "        return enc_ftrs\n",
    "\n",
    "\n",
    "class TemporalEncoder(nn.Module):\n",
    "    def __init__(self, enc_chs=(16,64,128,256), dec_chs=(256, 128, 64), num_class=16, retain_dim=False, out_sz=(128,128)):\n",
    "        super().__init__()\n",
    "        self.encoder     = Encoder(enc_chs)\n",
    "        self.decoder     = Decoder(dec_chs)\n",
    "        self.head        = nn.Conv2d(dec_chs[-1], num_class, 1)\n",
    "        self.retain_dim  = retain_dim\n",
    "\n",
    "    def forward(self, x):\n",
    "        enc_ftrs = self.encoder(x)\n",
    "        #for ftr in enc_ftrs: print(ftr.shape)\n",
    "        #print('decoder input:', enc_ftrs[::-1][0].shape, enc_ftrs[::-1][1:].shape)\n",
    "        out      = self.decoder(enc_ftrs[::-1][0], enc_ftrs[::-1][1:])\n",
    "        #print('decoder output:', out.shape)\n",
    "        out      = self.head(out)\n",
    "        #print('shape after head:', out.shape)\n",
    "        if self.retain_dim:\n",
    "            out = F.interpolate(out, out_sz)\n",
    "        return out"
   ]
  },
  {
   "cell_type": "code",
   "execution_count": 10,
   "metadata": {},
   "outputs": [],
   "source": [
    "class MetNet(nn.Module):\n",
    "    def __init__(self):\n",
    "        super().__init__()\n",
    "        self.temporal_enc = TemporalEncoder().to(device)\n",
    "        self.conv1x1 = nn.Conv2d(16, 128, 1).to(device)\n",
    "        self.temporal_agg = AxialImageTransformer(dim = 128,depth = 12,reversible = True).to(device)\n",
    "\n",
    "\n",
    "    def forward(self, x):\n",
    "        #Temporal Encoder\n",
    "        state = self.temporal_enc(x)\n",
    "        return self.temporal_agg(self.conv1x1(state))\n",
    "    "
   ]
  },
  {
   "cell_type": "code",
   "execution_count": 11,
   "metadata": {},
   "outputs": [],
   "source": [
    "model = MetNet().to(device)\n",
    "optim = Adam(model.parameters(), lr=1e-4)\n",
    "\n",
    "# Binary Cross Entropy, target pixel values either 0 or 1\n",
    "criterion = nn.MSELoss(reduction='sum')\n",
    "\n",
    "num_epochs = 15"
   ]
  },
  {
   "cell_type": "code",
   "execution_count": 12,
   "metadata": {},
   "outputs": [],
   "source": [
    "def calculate_psnr(target, output):\n",
    "    \"\"\"\n",
    "    Calculate Peak Signal To Noise Ratio\n",
    "    Input: torch tensor of shape (m, C, H, W)\n",
    "    Output: average of PSTR for that batch\n",
    "    \"\"\"\n",
    "    \n",
    "    m, C, H, W = target.shape\n",
    "    sum_psnr = 0 \n",
    "    \n",
    "    for i in range(m):\n",
    "        output[i] = torch.clamp(output[i], min=0.0, max=1.0)\n",
    "        mse = torch.sum((target[i] - output[i])**2)/(C*H*W)\n",
    "        psnr =  -10*torch.log10(mse)\n",
    "        sum_psnr += psnr\n",
    "        \n",
    "    return sum_psnr"
   ]
  },
  {
   "cell_type": "code",
   "execution_count": 16,
   "metadata": {},
   "outputs": [
    {
     "name": "stdout",
     "output_type": "stream",
     "text": [
      "Epoch:1 Training Loss:31.24 psnr_train:41.73 ssim_train:0.92 Validation Loss:2.23 psnr_val:44.50 ssim_val:0.99\n",
      "\n",
      "Epoch:2 Training Loss:2.26 psnr_train:43.65 ssim_train:0.94 Validation Loss:2.60 psnr_val:39.00 ssim_val:0.85\n",
      "\n",
      "Epoch:3 Training Loss:1.65 psnr_train:44.65 ssim_train:0.97 Validation Loss:1.26 psnr_val:46.59 ssim_val:0.99\n",
      "\n",
      "Epoch:4 Training Loss:1.40 psnr_train:45.30 ssim_train:0.97 Validation Loss:1.37 psnr_val:42.42 ssim_val:0.95\n",
      "\n",
      "Epoch:5 Training Loss:1.29 psnr_train:45.47 ssim_train:0.97 Validation Loss:0.96 psnr_val:47.18 ssim_val:0.99\n",
      "\n",
      "Epoch:6 Training Loss:3.34 psnr_train:46.20 ssim_train:0.98 Validation Loss:0.97 psnr_val:47.18 ssim_val:0.99\n",
      "\n",
      "Epoch:7 Training Loss:1.26 psnr_train:45.69 ssim_train:0.97 Validation Loss:2.10 psnr_val:47.45 ssim_val:0.99\n",
      "\n",
      "Epoch:8 Training Loss:1.82 psnr_train:45.73 ssim_train:0.97 Validation Loss:0.89 psnr_val:47.60 ssim_val:0.99\n",
      "\n",
      "Epoch:9 Training Loss:1.03 psnr_train:46.38 ssim_train:0.98 Validation Loss:1.19 psnr_val:42.51 ssim_val:0.93\n",
      "\n",
      "Epoch:10 Training Loss:1.11 psnr_train:45.96 ssim_train:0.97 Validation Loss:1.04 psnr_val:44.29 ssim_val:0.97\n",
      "\n",
      "Epoch:11 Training Loss:1.05 psnr_train:46.28 ssim_train:0.98 Validation Loss:0.79 psnr_val:48.01 ssim_val:0.99\n",
      "\n",
      "Epoch:12 Training Loss:1.01 psnr_train:46.57 ssim_train:0.98 Validation Loss:0.89 psnr_val:44.84 ssim_val:0.97\n",
      "\n",
      "Epoch:13 Training Loss:2.84 psnr_train:46.97 ssim_train:0.98 Validation Loss:0.79 psnr_val:46.58 ssim_val:0.99\n",
      "\n",
      "Epoch:14 Training Loss:0.98 psnr_train:46.41 ssim_train:0.98 Validation Loss:0.78 psnr_val:48.05 ssim_val:0.99\n",
      "\n",
      "Epoch:15 Training Loss:1.03 psnr_train:46.79 ssim_train:0.98 Validation Loss:0.76 psnr_val:48.20 ssim_val:0.99\n",
      "\n"
     ]
    }
   ],
   "source": [
    "\n",
    "epi=0\n",
    "tr_loss = []\n",
    "va_loss = []\n",
    "ep=[]\n",
    "for epoch in range(1, num_epochs+1):\n",
    "    epi+=1\n",
    "    ep.append(epi)\n",
    "    train_loss = 0 \n",
    "    psnr_train = 0\n",
    "    psnr_val =0\n",
    "    ssim_train = 0\n",
    "    ssim_val = 0  \n",
    "    model.train()\n",
    "    for batch_num, (input, target) in enumerate(train_loader, 1):  \n",
    "        input = torch.squeeze(input, axis=1)\n",
    "        output = model(input)  \n",
    "        output = torch.mean(output, 1)\n",
    "        output = torch.unsqueeze(output, dim=1)\n",
    "        loss = criterion(output.flatten(), target.flatten())       \n",
    "        loss.backward()                                            \n",
    "        optim.step()                                               \n",
    "        optim.zero_grad()                                           \n",
    "        train_loss += loss.item()  \n",
    "        psnr_train+=calculate_psnr(target, output)\n",
    "        ot = output.flatten().cpu()\n",
    "        tt = target.flatten().cpu()\n",
    "        ssim_train+=ssim(ot.detach().numpy(), tt.detach().numpy())\n",
    "    train_loss /= len(train_loader.dataset)  \n",
    "    psnr_train/= len(train_loader.dataset) \n",
    "    ssim_train/=len(train_loader.dataset)\n",
    "    tr_loss.append(train_loss)\n",
    "    \n",
    "\n",
    "    val_loss = 0                                                 \n",
    "    model.eval()                                                   \n",
    "    with torch.no_grad():                                          \n",
    "        for input, target in val_loader:  \n",
    "            input = np.squeeze(input, axis=1)\n",
    "            output = model(input)   \n",
    "            output = torch.mean(output, 1)\n",
    "            output = torch.unsqueeze(output, dim=1)\n",
    "            loss = criterion(output.flatten(), target.flatten())   \n",
    "            val_loss += loss.item()  \n",
    "            psnr_val+=calculate_psnr(target, output)\n",
    "            ot = output.flatten().cpu()\n",
    "            tt = target.flatten().cpu()\n",
    "            ssim_val+=ssim(ot.detach().numpy(), tt.detach().numpy())\n",
    "    val_loss /= len(val_loader.dataset) \n",
    "    psnr_val/= len(val_loader.dataset)\n",
    "    ssim_val/=len(val_loader.dataset)\n",
    "    va_loss.append(val_loss)\n",
    "\n",
    "    print(\"Epoch:{} Training Loss:{:.2f} psnr_train:{:.2f} ssim_train:{:.2f} Validation Loss:{:.2f} psnr_val:{:.2f} ssim_val:{:.2f}\\n\".format(\n",
    "        epoch, train_loss, psnr_train, ssim_train, val_loss, psnr_val, ssim_val))"
   ]
  },
  {
   "cell_type": "code",
   "execution_count": 17,
   "metadata": {
    "scrolled": true
   },
   "outputs": [
    {
     "data": {
      "image/png": "[encoded data removed]",
      "text/plain": [
       "<Figure size 576x432 with 1 Axes>"
      ]
     },
     "metadata": {
      "needs_background": "light"
     },
     "output_type": "display_data"
    }
   ],
   "source": [
    "from matplotlib import pyplot as plt\n",
    "\n",
    "f = plt.figure()\n",
    "f.set_figwidth(8)\n",
    "f.set_figheight(6)\n",
    "plt.xlabel(\"Number of epochs\", fontsize = 17)\n",
    "plt.ylabel(\"Training loss (%)\", fontsize = 17)\n",
    "\n",
    "\n",
    "plt.plot(ep, tr_loss)\n",
    "plt.show()"
   ]
  },
  {
   "cell_type": "code",
   "execution_count": 18,
   "metadata": {},
   "outputs": [
    {
     "data": {
      "image/png": "[encoded data removed]",
      "text/plain": [
       "<Figure size 576x432 with 1 Axes>"
      ]
     },
     "metadata": {
      "needs_background": "light"
     },
     "output_type": "display_data"
    }
   ],
   "source": [
    "f = plt.figure()\n",
    "f.set_figwidth(8)\n",
    "f.set_figheight(6)\n",
    "plt.xlabel(\"Number of epochs\", fontsize = 17)\n",
    "plt.ylabel(\"Validation loss (%)\", fontsize = 17)\n",
    "\n",
    "\n",
    "plt.plot(ep, va_loss)\n",
    "plt.show()"
   ]
  },
  {
   "cell_type": "code",
   "execution_count": 19,
   "metadata": {},
   "outputs": [],
   "source": [
    "\n",
    "# Pkl_Filename = \"transformerUnet_15ep_bs1.pkl\"  \n",
    "\n",
    "# with open(Pkl_Filename, 'wb') as file:  \n",
    "#     pickle.dump(model, file)"
   ]
  },
  {
   "cell_type": "code",
   "execution_count": 13,
   "metadata": {},
   "outputs": [],
   "source": [
    "with open('transformerUnet_15ep_bs1.pkl', 'rb') as file:  \n",
    "    model = pickle.load(file)"
   ]
  },
  {
   "cell_type": "code",
   "execution_count": 17,
   "metadata": {},
   "outputs": [],
   "source": [
    "def collate_test(batch):\n",
    "\n",
    "    # Last 10 frames are target\n",
    "    target = np.array(batch)[:,16:]                     \n",
    "    \n",
    "    # Add channel dim, scale pixels between 0 and 1, send to GPU\n",
    "    batch = torch.tensor(batch).unsqueeze(1)          \n",
    "    batch = batch / 255.0                             \n",
    "    batch = batch.to(device)                          \n",
    "    return batch, target\n",
    "\n",
    "# Test Data Loader\n",
    "test_loader = DataLoader(test_data,shuffle=True, \n",
    "                         batch_size=3, collate_fn=collate_test)\n",
    "\n",
    "\n",
    "# Get a batch\n",
    "batch, target = next(iter(test_loader))"
   ]
  },
  {
   "cell_type": "code",
   "execution_count": 18,
   "metadata": {},
   "outputs": [],
   "source": [
    "# Initialize output sequence\n",
    "output = np.zeros(target.shape, dtype=np.uint8)\n",
    "for timestep in range(target.shape[1]):\n",
    "    input = batch[:,:,timestep:timestep+16]\n",
    "    input = torch.squeeze(input,dim=1)\n",
    "    op = model(input.to(device))\n",
    "    op = torch.mean(op, 1)\n",
    "    batch[:,:,timestep+16] = torch.unsqueeze(op, dim=1)\n",
    "    output[:,timestep]=(op.cpu()>0.1)*255.0"
   ]
  },
  {
   "cell_type": "code",
   "execution_count": 19,
   "metadata": {
    "scrolled": false
   },
   "outputs": [
    {
     "data": {
      "application/vnd.jupyter.widget-view+json": {
       "model_id": "72252185633a4be59f62d0b7169b2f46",
       "version_major": 2,
       "version_minor": 0
      },
      "text/plain": [
       "HBox(children=(Image(value=b'GIF89a\\x80\\x00\\x80\\x00\\x87\\x00\\x00\\xaf\\xaf\\xaf\\xa9\\xa9\\xa9\\x9d\\x9d\\x9d\\x99\\x99\\x9…"
      ]
     },
     "metadata": {},
     "output_type": "display_data"
    },
    {
     "data": {
      "application/vnd.jupyter.widget-view+json": {
       "model_id": "0a21fbfb5c84479187a29c2852af7ce0",
       "version_major": 2,
       "version_minor": 0
      },
      "text/plain": [
       "HBox(children=(Image(value=b'GIF89a\\x80\\x00\\x80\\x00\\x87\\x00\\x00\\x17\\x17\\x17\\x14\\x14\\x14\\x12\\x12\\x12\\x11\\x11\\x1…"
      ]
     },
     "metadata": {},
     "output_type": "display_data"
    },
    {
     "data": {
      "application/vnd.jupyter.widget-view+json": {
       "model_id": "f699bfdfc12942398baeef96eafba4a5",
       "version_major": 2,
       "version_minor": 0
      },
      "text/plain": [
       "HBox(children=(Image(value=b'GIF89a\\x80\\x00\\x80\\x00\\x87\\x00\\x00XXXVVVUUUSSSRRROOOLLLHHHBBB???<<<88877744433311…"
      ]
     },
     "metadata": {},
     "output_type": "display_data"
    }
   ],
   "source": [
    "for tgt, out in zip(target, output):       # Loop over samples\n",
    "    \n",
    "    # Write target video as gif\n",
    "    with io.BytesIO() as gif:\n",
    "        imageio.mimsave(gif, tgt, \"GIF\", fps = 2)    \n",
    "        target_gif = gif.getvalue()\n",
    "\n",
    "    # Write output video as gif\n",
    "    with io.BytesIO() as gif:\n",
    "        imageio.mimsave(gif, out, \"GIF\", fps = 2)    \n",
    "        output_gif = gif.getvalue()\n",
    "\n",
    "    display(HBox([widgets.Image(value=target_gif, height=400, width=400), \n",
    "                  widgets.Image(value=output_gif, height=400, width=400)]))"
   ]
  },
  {
   "cell_type": "code",
   "execution_count": 63,
   "metadata": {},
   "outputs": [],
   "source": [
    "test_loader_nu = DataLoader(test_data, shuffle=True, \n",
    "                        batch_size=1, collate_fn=collate)\n",
    "\n",
    "ssim_test = 0\n",
    "psnr_test = 0\n",
    "\n",
    "model.eval()                                                   \n",
    "with torch.no_grad():                                          \n",
    "    for input, target in test_loader_nu:  \n",
    "        input = np.squeeze(input, axis=1)\n",
    "        output = model(input)   \n",
    "        output = torch.mean(output, 1)\n",
    "        output = torch.unsqueeze(output, dim=1) \n",
    "        psnr_test+=calculate_psnr(target, output)\n",
    "        ot = output.flatten().cpu()\n",
    "        tt = target.flatten().cpu()\n",
    "        ssim_test+=ssim(ot.detach().numpy(), tt.detach().numpy())\n",
    "psnr_test/= len(test_loader_nu.dataset)\n",
    "ssim_test/=len(test_loader_nu.dataset)\n"
   ]
  },
  {
   "cell_type": "code",
   "execution_count": 64,
   "metadata": {
    "scrolled": true
   },
   "outputs": [
    {
     "name": "stdout",
     "output_type": "stream",
     "text": [
      "PSNR for test dataset: 47.66781998\n",
      "SSIM for test dataset: 0.99428041\n"
     ]
    }
   ],
   "source": [
    "print(\"PSNR for test dataset: {:.8f}\".format(psnr_test.item()))\n",
    "print(\"SSIM for test dataset: {:.8f}\".format(ssim_test))"
   ]
  },
  {
   "cell_type": "code",
   "execution_count": null,
   "metadata": {},
   "outputs": [],
   "source": []
  }
 ],
 "metadata": {
  "kernelspec": {
   "display_name": "Python 3",
   "language": "python",
   "name": "python3"
  },
  "language_info": {
   "codemirror_mode": {
    "name": "ipython",
    "version": 3
   },
   "file_extension": ".py",
   "mimetype": "text/x-python",
   "name": "python",
   "nbconvert_exporter": "python",
   "pygments_lexer": "ipython3",
   "version": "3.8.6"
  }
 },
 "nbformat": 4,
 "nbformat_minor": 4
}
