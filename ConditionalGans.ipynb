{
 "cells": [
  {
   "cell_type": "code",
   "execution_count": 1,
   "metadata": {},
   "outputs": [],
   "source": [
    "import numpy as np\n",
    "import torch\n",
    "import torch.nn as nn\n",
    "from torch.optim import Adam\n",
    "from torch.utils.data import DataLoader\n",
    "from tqdm.notebook import tqdm\n",
    "import io\n",
    "import imageio\n",
    "import cv2\n",
    "import sys\n",
    "from ipywidgets import widgets, HBox\n",
    "from skimage.metrics import structural_similarity as ssim\n",
    "\n",
    "\n",
    "import pickle \n",
    "import torchvision\n",
    "from torch.autograd import Variable\n",
    "from torch import Tensor\n",
    "\n",
    "# Use GPU if available\n",
    "device = torch.device('cuda' if torch.cuda.is_available() else 'cpu')"
   ]
  },
  {
   "cell_type": "code",
   "execution_count": 2,
   "metadata": {},
   "outputs": [
    {
     "name": "stdout",
     "output_type": "stream",
     "text": [
      "Wed Dec 15 18:52:55 2021       \r\n",
      "+-----------------------------------------------------------------------------+\r\n",
      "| NVIDIA-SMI 465.19.01    Driver Version: 465.19.01    CUDA Version: 11.3     |\r\n",
      "|-------------------------------+----------------------+----------------------+\r\n",
      "| GPU  Name        Persistence-M| Bus-Id        Disp.A | Volatile Uncorr. ECC |\r\n",
      "| Fan  Temp  Perf  Pwr:Usage/Cap|         Memory-Usage | GPU-Util  Compute M. |\r\n",
      "|                               |                      |               MIG M. |\r\n",
      "|===============================+======================+======================|\r\n",
      "|   0  NVIDIA Quadro R...  On   | 00000000:86:00.0 Off |                    0 |\r\n",
      "| N/A   34C    P0    58W / 250W |   1462MiB / 45556MiB |      0%      Default |\r\n",
      "|                               |                      |                  N/A |\r\n",
      "+-------------------------------+----------------------+----------------------+\r\n",
      "                                                                               \r\n",
      "+-----------------------------------------------------------------------------+\r\n",
      "| Processes:                                                                  |\r\n",
      "|  GPU   GI   CI        PID   Type   Process name                  GPU Memory |\r\n",
      "|        ID   ID                                                   Usage      |\r\n",
      "|=============================================================================|\r\n",
      "|    0   N/A  N/A   2316778      C   ...on/3.8.6/intel/bin/python     1459MiB |\r\n",
      "+-----------------------------------------------------------------------------+\r\n"
     ]
    }
   ],
   "source": [
    "!nvidia-smi"
   ]
  },
  {
   "cell_type": "code",
   "execution_count": 3,
   "metadata": {},
   "outputs": [],
   "source": [
    "Radar = np.load('new_radar_20_128fr_cleaned.npy')"
   ]
  },
  {
   "cell_type": "code",
   "execution_count": 4,
   "metadata": {},
   "outputs": [],
   "source": [
    "Radar.resize((5802, 10, 128, 128))"
   ]
  },
  {
   "cell_type": "code",
   "execution_count": 5,
   "metadata": {},
   "outputs": [
    {
     "name": "stdout",
     "output_type": "stream",
     "text": [
      "<class 'numpy.ndarray'>\n",
      "(5802, 10, 128, 128)\n",
      "1\n"
     ]
    }
   ],
   "source": [
    "print(type(Radar))\n",
    "print(Radar.shape)\n",
    "print(Radar.itemsize)"
   ]
  },
  {
   "cell_type": "code",
   "execution_count": 6,
   "metadata": {},
   "outputs": [
    {
     "name": "stdout",
     "output_type": "stream",
     "text": [
      "(5802, 10, 128, 128)\n"
     ]
    }
   ],
   "source": [
    "np.random.shuffle(Radar)\n",
    "print(Radar.shape)"
   ]
  },
  {
   "cell_type": "code",
   "execution_count": 7,
   "metadata": {},
   "outputs": [],
   "source": [
    "# Train, Test, Validation splits\n",
    "train_data = Radar[:2000]         \n",
    "val_data = Radar[2000:2100]       \n",
    "test_data = Radar[2100:2200]     \n",
    "\n",
    "def collate(batch):\n",
    "\n",
    "    # Add channel dim, scale pixels between 0 and 1, send to GPU\n",
    "    batch = torch.tensor(batch).unsqueeze(1)     \n",
    "    batch = batch / 255.0                        \n",
    "    batch = batch.to(device)                     \n",
    "\n",
    "    # Randomly pick 10 frames as input, 11th frame is target \n",
    "    x = 4\n",
    "    return batch[:,:,x-4:x], batch[:,:,x:8]     \n",
    "\n",
    "\n",
    "# Training Data Loader\n",
    "train_loader = DataLoader(train_data, shuffle=True, \n",
    "                        batch_size=4, collate_fn=collate)\n",
    "\n",
    "# Validation Data Loader\n",
    "val_loader = DataLoader(val_data, shuffle=True, \n",
    "                        batch_size=4, collate_fn=collate)"
   ]
  },
  {
   "cell_type": "code",
   "execution_count": 8,
   "metadata": {},
   "outputs": [],
   "source": [
    "class Block(nn.Module):\n",
    "    def __init__(self, in_ch, out_ch):\n",
    "        super().__init__()\n",
    "        self.conv1 = nn.Conv2d(in_ch, out_ch, 3, padding=1)\n",
    "        self.relu  = nn.ReLU()\n",
    "        self.conv2 = nn.Conv2d(out_ch, out_ch, 3, padding=1)\n",
    "    \n",
    "    def forward(self, x):\n",
    "        #print(x.shape)\n",
    "        y = self.conv1(x)\n",
    "        #print('surpassed this')\n",
    "        return self.conv2(self.relu(y))\n",
    "\n",
    "\n",
    "class Encoder(nn.Module):\n",
    "    def __init__(self, chs=(4,64,128,256)):\n",
    "        super().__init__()\n",
    "        l = [Block(chs[i], chs[i+1]) for i in range(len(chs)-1)]\n",
    "        #print(l)\n",
    "        self.enc_blocks = nn.ModuleList(l)\n",
    "        self.pool       = nn.MaxPool2d(2)\n",
    "    \n",
    "    def forward(self, x):\n",
    "        ftrs = []\n",
    "        for block in self.enc_blocks:\n",
    "            x = block(x)\n",
    "            #print('enc block output:', x.shape)\n",
    "            ftrs.append(x)\n",
    "            #print('ftrs shape:', x.shape)\n",
    "            x = self.pool(x)\n",
    "            #print('after pool:', x.shape)\n",
    "        return ftrs\n",
    "\n",
    "\n",
    "class Decoder(nn.Module):\n",
    "    #def __init__(self, chs=(1024, 512, 256, 128, 64)):\n",
    "    def __init__(self, chs=(256, 128, 64)):\n",
    "        super().__init__()\n",
    "        self.chs         = chs\n",
    "        self.upconvs    = nn.ModuleList([nn.ConvTranspose2d(chs[i], chs[i+1], 2, 2) for i in range(len(chs)-1)])\n",
    "        self.dec_blocks = nn.ModuleList([Block(chs[i], chs[i+1]) for i in range(len(chs)-1)]) \n",
    "        \n",
    "    def forward(self, x, encoder_features):\n",
    "        #print(len(x), len(encoder_features))\n",
    "        for i in range(len(self.chs)-1):\n",
    "            x        = self.upconvs[i](x)\n",
    "            #print('forward to crop x and enc:', x.shape, encoder_features[i].shape)\n",
    "            enc_ftrs = self.crop(encoder_features[i], x)\n",
    "            #print('forward shapes of x and enc_fts:', x.shape, enc_ftrs.shape)\n",
    "            x        = torch.cat([x, enc_ftrs], dim=1)\n",
    "            x        = self.dec_blocks[i](x)\n",
    "        return x\n",
    "    \n",
    "    def crop(self, enc_ftrs, x):\n",
    "        _, _, H, W = x.shape\n",
    "        enc_ftrs   = torchvision.transforms.CenterCrop([H, W])(enc_ftrs)\n",
    "        #print('crop output shape', enc_ftrs.shape)\n",
    "        return enc_ftrs\n",
    "\n",
    "\n",
    "class Generator(nn.Module):\n",
    "    def __init__(self, enc_chs=(4,64,128,256), dec_chs=(256, 128, 64), num_class=4, retain_dim=False, out_sz=(128,128)):\n",
    "        super().__init__()\n",
    "        self.encoder     = Encoder(enc_chs)\n",
    "        self.decoder     = Decoder(dec_chs)\n",
    "        self.head        = nn.Conv2d(dec_chs[-1], num_class, 1)\n",
    "        self.retain_dim  = retain_dim\n",
    "\n",
    "    def forward(self, x):\n",
    "        enc_ftrs = self.encoder(x)\n",
    "        #for ftr in enc_ftrs: print(ftr.shape)\n",
    "        #print('decoder input:', enc_ftrs[::-1][0].shape, enc_ftrs[::-1][1:].shape)\n",
    "        out      = self.decoder(enc_ftrs[::-1][0], enc_ftrs[::-1][1:])\n",
    "        #print('decoder output:', out.shape)\n",
    "        out      = self.head(out)\n",
    "        #print('shape after head:', out.shape)\n",
    "        if self.retain_dim:\n",
    "            out = F.interpolate(out, out_sz)\n",
    "        return out"
   ]
  },
  {
   "cell_type": "code",
   "execution_count": 9,
   "metadata": {},
   "outputs": [],
   "source": [
    "class Discriminator(nn.Module):\n",
    "    def __init__(self, in_channels=4):\n",
    "        super(Discriminator, self).__init__()\n",
    "\n",
    "        def discriminator_block(in_filters, out_filters, normalization=True):\n",
    "            \"\"\"Returns downsampling layers of each discriminator block\"\"\"\n",
    "            layers = [nn.Conv2d(in_filters, out_filters, 4, stride=2, padding=1)]\n",
    "            if normalization:\n",
    "                layers.append(nn.InstanceNorm2d(out_filters))\n",
    "            layers.append(nn.LeakyReLU(0.2, inplace=True))\n",
    "            return layers\n",
    "\n",
    "        self.model = nn.Sequential(\n",
    "            *discriminator_block(4 * 2, 64, normalization=False),\n",
    "            *discriminator_block(64, 128),\n",
    "            *discriminator_block(128, 256),\n",
    "            *discriminator_block(256, 512),\n",
    "            nn.ZeroPad2d((1, 0, 1, 0)),\n",
    "            nn.Conv2d(512, 1, 4, padding=1, bias=False)\n",
    "        )\n",
    "\n",
    "    def forward(self, img_A, img_B):\n",
    "        # Concatenate image and condition image by channels to produce input\n",
    "        img_input = torch.cat((img_A, img_B), 1)\n",
    "        #print(img_input.shape)\n",
    "        return self.model(img_input)\n",
    "\n",
    "\n"
   ]
  },
  {
   "cell_type": "code",
   "execution_count": 10,
   "metadata": {},
   "outputs": [],
   "source": [
    "\n",
    "\n",
    "# Initialize generator and discriminator\n",
    "generator = Generator().to(device)\n",
    "discriminator = Discriminator().to(device)\n",
    "\n",
    "\n",
    "optimizer_G = torch.optim.Adam(generator.parameters(), lr=1e-4)\n",
    "optimizer_D = torch.optim.Adam(discriminator.parameters(), lr=1e-4)\n",
    "\n",
    "criterion_GAN = torch.nn.MSELoss()\n",
    "criterion_pixelwise = torch.nn.L1Loss()\n",
    "num_epochs = 10"
   ]
  },
  {
   "cell_type": "code",
   "execution_count": 12,
   "metadata": {},
   "outputs": [],
   "source": [
    "def calculate_psnr(target, output):\n",
    "    \"\"\"\n",
    "    Calculate Peak Signal To Noise Ratio\n",
    "    Input: torch tensor of shape (m, C, H, W)\n",
    "    Output: average of PSTR for that batch\n",
    "    \"\"\"\n",
    "    \n",
    "    m, C, H, W = target.shape\n",
    "    sum_psnr = 0 \n",
    "    \n",
    "    for i in range(m):\n",
    "        output[i] = torch.clamp(output[i], min=0.0, max=1.0)\n",
    "        mse = torch.sum((target[i] - output[i])**2)/(C*H*W)\n",
    "        psnr =  -10*torch.log10(mse)\n",
    "        sum_psnr += psnr\n",
    "        \n",
    "    return sum_psnr"
   ]
  },
  {
   "cell_type": "code",
   "execution_count": 13,
   "metadata": {},
   "outputs": [],
   "source": [
    "patch = (1, 128 // 2 ** 4, 128 // 2 ** 4)\n",
    "lambda_pixel = 100"
   ]
  },
  {
   "cell_type": "code",
   "execution_count": 14,
   "metadata": {
    "scrolled": true
   },
   "outputs": [
    {
     "name": "stdout",
     "output_type": "stream",
     "text": [
      "Epoch:1 generator Training Loss:0.2467851939 discriminator Training Loss:0.047371 psnr_train:39.424766540527344 ssim_train:0.239960 generator Validation Loss:0.000701 psnr_val:40.888404846191406 ssim_val:0.244519\n",
      "\n",
      "Epoch:2 generator Training Loss:0.2251599090 discriminator Training Loss:0.037005 psnr_train:40.23728561401367 ssim_train:0.243877 generator Validation Loss:0.000732 psnr_val:40.562530517578125 ssim_val:0.243831\n",
      "\n",
      "Epoch:3 generator Training Loss:0.2285261445 discriminator Training Loss:0.037409 psnr_train:40.41767883300781 ssim_train:0.243690 generator Validation Loss:0.000697 psnr_val:41.429603576660156 ssim_val:0.245204\n",
      "\n",
      "Epoch:4 generator Training Loss:0.2117194130 discriminator Training Loss:0.041919 psnr_train:40.423301696777344 ssim_train:0.243802 generator Validation Loss:0.000671 psnr_val:40.375938415527344 ssim_val:0.244630\n",
      "\n",
      "Epoch:5 generator Training Loss:0.1922143102 discriminator Training Loss:0.045283 psnr_train:40.42919158935547 ssim_train:0.244412 generator Validation Loss:0.000777 psnr_val:41.029296875 ssim_val:0.244023\n",
      "\n",
      "Epoch:6 generator Training Loss:0.2186692031 discriminator Training Loss:0.037268 psnr_train:40.337364196777344 ssim_train:0.243964 generator Validation Loss:0.000880 psnr_val:39.066810607910156 ssim_val:0.243600\n",
      "\n",
      "Epoch:7 generator Training Loss:0.2067897864 discriminator Training Loss:0.041989 psnr_train:40.260650634765625 ssim_train:0.244111 generator Validation Loss:0.000873 psnr_val:40.18692398071289 ssim_val:0.243100\n",
      "\n",
      "Epoch:8 generator Training Loss:0.1864752003 discriminator Training Loss:0.045464 psnr_train:40.38831329345703 ssim_train:0.244559 generator Validation Loss:0.000758 psnr_val:39.54091262817383 ssim_val:0.243578\n",
      "\n",
      "Epoch:9 generator Training Loss:0.1958566319 discriminator Training Loss:0.042065 psnr_train:40.36690139770508 ssim_train:0.244675 generator Validation Loss:0.000702 psnr_val:40.02821350097656 ssim_val:0.244660\n",
      "\n",
      "Epoch:10 generator Training Loss:0.1873903507 discriminator Training Loss:0.044230 psnr_train:40.478145599365234 ssim_train:0.244738 generator Validation Loss:0.000527 psnr_val:41.23305892944336 ssim_val:0.245607\n",
      "\n"
     ]
    }
   ],
   "source": [
    "epi=0\n",
    "generator_tr_loss = []\n",
    "discriminator_tr_loss = []\n",
    "va_loss = []\n",
    "ep=[]\n",
    "for epoch in range(1, num_epochs+1):\n",
    "    epi+=1\n",
    "    ep.append(epi)\n",
    "    psnr_train = 0\n",
    "    psnr_val =0\n",
    "    ssim_train = 0\n",
    "    ssim_val = 0  \n",
    "    generator.train()\n",
    "    discriminator.train()\n",
    "    \n",
    "    generator_loss = 0\n",
    "    discriminator_loss = 0\n",
    "    for batch_num, (input, target) in enumerate(train_loader, 1):  \n",
    "\n",
    "        # Model inputs\n",
    "        input = torch.squeeze(input, axis=1).to(device)\n",
    "        target = torch.squeeze(target, axis=1).to(device)\n",
    "        real_A = Variable(input.type(Tensor)).to(device)\n",
    "        real_B = Variable(target.type(Tensor)).to(device)\n",
    "        # Adversarial ground truths\n",
    "        valid = Variable(Tensor(np.ones((real_A.size(0), *patch))), requires_grad=False).to(device)\n",
    "        fake = Variable(Tensor(np.zeros((real_A.size(0), *patch))), requires_grad=False).to(device)\n",
    "\n",
    "        # ------------------\n",
    "        #  Train Generators\n",
    "        # ------------------\n",
    "\n",
    "        optimizer_G.zero_grad()\n",
    "\n",
    "        # GAN loss\n",
    "        fake_B = generator(real_A)\n",
    "\n",
    "        pred_fake = discriminator(fake_B, real_A)\n",
    "\n",
    "        loss_GAN = criterion_GAN(pred_fake, valid)\n",
    "        # Pixel-wise loss\n",
    "        \n",
    "        loss_pixel = criterion_pixelwise(fake_B, real_B)\n",
    "        \n",
    "        loss_G = loss_GAN + lambda_pixel * loss_pixel\n",
    "        generator_loss+=loss_G.item()\n",
    "        loss_G.backward()\n",
    "\n",
    "        optimizer_G.step()\n",
    "\n",
    "        # ---------------------\n",
    "        #  Train Discriminator\n",
    "        # ---------------------\n",
    "\n",
    "        optimizer_D.zero_grad()\n",
    "\n",
    "        # Real loss\n",
    "        pred_real = discriminator(real_B, real_A)\n",
    "        loss_real = criterion_GAN(pred_real, valid)\n",
    "        # Fake loss\n",
    "        pred_fake = discriminator(fake_B.detach(), real_A)\n",
    "        loss_fake = criterion_GAN(pred_fake, fake)\n",
    "\n",
    "        # Total loss\n",
    "        loss_D = 0.5 * (loss_real + loss_fake)\n",
    "        discriminator_loss+=loss_D.item()\n",
    "        loss_D.backward()\n",
    "        optimizer_D.step()\n",
    "        psnr_train+=calculate_psnr(real_B, fake_B)\n",
    "        ot = fake_B.flatten().cpu()\n",
    "        tt = real_B.flatten().cpu()\n",
    "        ssim_train+=ssim(ot.detach().numpy(), tt.detach().numpy())\n",
    "\n",
    "    discriminator_loss /= len(train_loader.dataset) \n",
    "    generator_loss /= len(train_loader.dataset) \n",
    "    psnr_train /= len(train_loader.dataset) \n",
    "    ssim_train/=len(train_loader.dataset)\n",
    "    generator_tr_loss.append(generator_loss)\n",
    "    discriminator_tr_loss.append(discriminator_loss)\n",
    "    \n",
    "    val_loss = 0                                                 \n",
    "    generator.eval()                                                   \n",
    "    with torch.no_grad():                                          \n",
    "        for input, target in val_loader:  \n",
    "            input = np.squeeze(input, axis=1).to(device)\n",
    "            target = torch.squeeze(target, axis=1).to(device)\n",
    "            real_A = Variable(input.type(Tensor)).to(device)\n",
    "            real_B = Variable(target.type(Tensor)).to(device)\n",
    "            output = generator(real_A)   \n",
    "            loss = criterion_pixelwise(output, target)   \n",
    "            val_loss += loss.item()  \n",
    "            psnr_val+=calculate_psnr(target, output)\n",
    "            ot = output.flatten().cpu()\n",
    "            tt = target.flatten().cpu()\n",
    "            ssim_val+=ssim(ot.detach().numpy(), tt.detach().numpy())\n",
    "    val_loss /= len(val_loader.dataset)      \n",
    "    psnr_val/= len(val_loader.dataset) \n",
    "    ssim_val/=len(val_loader.dataset)\n",
    "    va_loss.append(val_loss)\n",
    "    print(\"Epoch:{} generator Training Loss:{:.10f} discriminator Training Loss:{:.6f} psnr_train:{} ssim_train:{:.6f} generator Validation Loss:{:.6f} psnr_val:{} ssim_val:{:.6f}\\n\".format(\n",
    "        epoch, generator_loss, discriminator_loss, psnr_train, ssim_train, val_loss, psnr_val, ssim_val))\n",
    "    "
   ]
  },
  {
   "cell_type": "code",
   "execution_count": 15,
   "metadata": {},
   "outputs": [
    {
     "data": {
      "image/png": "[encoded data removed]",
      "text/plain": [
       "<Figure size 576x432 with 1 Axes>"
      ]
     },
     "metadata": {
      "needs_background": "light"
     },
     "output_type": "display_data"
    }
   ],
   "source": [
    "from matplotlib import pyplot as plt\n",
    "\n",
    "f = plt.figure()\n",
    "f.set_figwidth(8)\n",
    "f.set_figheight(6)\n",
    "plt.xlabel(\"Number of epochs\", fontsize = 17)\n",
    "plt.ylabel(\"generator Training loss (%)\", fontsize = 17)\n",
    "\n",
    "\n",
    "plt.plot(ep, generator_tr_loss)\n",
    "plt.show()"
   ]
  },
  {
   "cell_type": "code",
   "execution_count": 16,
   "metadata": {},
   "outputs": [
    {
     "data": {
      "image/png": "[encoded data removed]",
      "text/plain": [
       "<Figure size 576x432 with 1 Axes>"
      ]
     },
     "metadata": {
      "needs_background": "light"
     },
     "output_type": "display_data"
    }
   ],
   "source": [
    "from matplotlib import pyplot as plt\n",
    "\n",
    "f = plt.figure()\n",
    "f.set_figwidth(8)\n",
    "f.set_figheight(6)\n",
    "plt.xlabel(\"Number of epochs\", fontsize = 17)\n",
    "plt.ylabel(\"discriminator Training loss (%)\", fontsize = 17)\n",
    "\n",
    "\n",
    "plt.plot(ep, discriminator_tr_loss)\n",
    "plt.show()"
   ]
  },
  {
   "cell_type": "code",
   "execution_count": 17,
   "metadata": {},
   "outputs": [
    {
     "data": {
      "image/png": "[encoded data removed]",
      "text/plain": [
       "<Figure size 576x432 with 1 Axes>"
      ]
     },
     "metadata": {
      "needs_background": "light"
     },
     "output_type": "display_data"
    }
   ],
   "source": [
    "f = plt.figure()\n",
    "f.set_figwidth(8)\n",
    "f.set_figheight(6)\n",
    "plt.xlabel(\"Number of epochs\", fontsize = 17)\n",
    "plt.ylabel(\"Validation loss (%)\", fontsize = 17)\n",
    "\n",
    "\n",
    "plt.plot(ep, va_loss)\n",
    "plt.show()"
   ]
  },
  {
   "cell_type": "code",
   "execution_count": 20,
   "metadata": {},
   "outputs": [],
   "source": [
    "Pkl_Filename = \"GANS_10_4seq_new_attempt3.pkl\"  \n",
    "\n",
    "with open(Pkl_Filename, 'wb') as file:  \n",
    "    pickle.dump(generator, file)"
   ]
  },
  {
   "cell_type": "code",
   "execution_count": 21,
   "metadata": {},
   "outputs": [],
   "source": [
    "with open('GANS_10_4seq_new_attempt3.pkl', 'rb') as file:  \n",
    "    model = pickle.load(file)"
   ]
  },
  {
   "cell_type": "code",
   "execution_count": 22,
   "metadata": {},
   "outputs": [],
   "source": [
    "def collate_test(batch):\n",
    "\n",
    "    # Last 10 frames are target\n",
    "    target = np.array(batch)[:,4:8]                     \n",
    "    \n",
    "    # Add channel dim, scale pixels between 0 and 1, send to GPU\n",
    "    batch = torch.tensor(batch).unsqueeze(1)          \n",
    "    batch = batch / 255.0                             \n",
    "    batch = batch.to(device)                          \n",
    "    return batch, target\n",
    "\n",
    "# Test Data Loader\n",
    "test_loader = DataLoader(test_data,shuffle=True, \n",
    "                         batch_size=3, collate_fn=collate_test)\n",
    "\n",
    "\n",
    "# Get a batch\n",
    "batch, target = next(iter(test_loader))"
   ]
  },
  {
   "cell_type": "code",
   "execution_count": 23,
   "metadata": {},
   "outputs": [],
   "source": [
    "# Initialize output sequence\n",
    "output = np.zeros(target.shape, dtype=np.uint8)\n",
    "\n",
    "# Loop over timesteps\n",
    "timestep=0\n",
    "input = batch[:,:,timestep:timestep+4] \n",
    "input = torch.squeeze(input, axis=1)\n",
    "last_out = generator(input).cpu()\n",
    "output[:,:4]=(last_out>0.25)*255.0"
   ]
  },
  {
   "cell_type": "code",
   "execution_count": 24,
   "metadata": {
    "scrolled": false
   },
   "outputs": [
    {
     "data": {
      "application/vnd.jupyter.widget-view+json": {
       "model_id": "d209df89d2fa43d0b64534c010b88f3c",
       "version_major": 2,
       "version_minor": 0
      },
      "text/plain": [
       "HBox(children=(Image(value=b'GIF89a\\x80\\x00\\x80\\x00\\x87\\x00\\x00\\xa1\\xa1\\xa1\\x9b\\x9b\\x9b\\x92\\x92\\x92\\x90\\x90\\x9…"
      ]
     },
     "metadata": {},
     "output_type": "display_data"
    },
    {
     "data": {
      "application/vnd.jupyter.widget-view+json": {
       "model_id": "3f4071d7bea7404a9edeb296e40381b0",
       "version_major": 2,
       "version_minor": 0
      },
      "text/plain": [
       "HBox(children=(Image(value=b\"GIF89a\\x80\\x00\\x80\\x00\\x87\\x00\\x00\\x16\\x16\\x16\\x05\\x05\\x05\\x03\\x03\\x03\\x02\\x02\\x0…"
      ]
     },
     "metadata": {},
     "output_type": "display_data"
    },
    {
     "data": {
      "application/vnd.jupyter.widget-view+json": {
       "model_id": "397361572a524d1da649ff8822a5de08",
       "version_major": 2,
       "version_minor": 0
      },
      "text/plain": [
       "HBox(children=(Image(value=b'GIF89a\\x80\\x00\\x80\\x00\\x87\\x00\\x00pppjjjggg[[[ZZZXXXUUURRROOONNNMMMJJJIIIFFFEEEDD…"
      ]
     },
     "metadata": {},
     "output_type": "display_data"
    }
   ],
   "source": [
    "for tgt, out in zip(target, output):       # Loop over samples\n",
    "    \n",
    "    # Write target video as gif\n",
    "    with io.BytesIO() as gif:\n",
    "        imageio.mimsave(gif, tgt, \"GIF\", fps = 2)    \n",
    "        target_gif = gif.getvalue()\n",
    "\n",
    "    # Write output video as gif\n",
    "    with io.BytesIO() as gif:\n",
    "        imageio.mimsave(gif, out, \"GIF\", fps = 2)    \n",
    "        output_gif = gif.getvalue()\n",
    "\n",
    "    display(HBox([widgets.Image(value=target_gif, height=400, width=400), \n",
    "                  widgets.Image(value=output_gif, height=400, width=400)]))"
   ]
  },
  {
   "cell_type": "code",
   "execution_count": 25,
   "metadata": {},
   "outputs": [
    {
     "name": "stdout",
     "output_type": "stream",
     "text": [
      "PSNR for test dataset: {:.2f} tensor(41.1319, device='cuda:0')\n",
      "SSIM for test dataset: {:.2f} 0.9825677583177275\n"
     ]
    }
   ],
   "source": [
    "test_loader_nu = DataLoader(test_data, shuffle=True, \n",
    "                        batch_size=1, collate_fn=collate)\n",
    "\n",
    "ssim_test = 0\n",
    "psnr_test = 0\n",
    "\n",
    "model.eval()                                                   \n",
    "with torch.no_grad():                                          \n",
    "    for input, target in test_loader_nu:  \n",
    "        input = np.squeeze(input, axis=1).to(device)\n",
    "        target = torch.squeeze(target, axis=1).to(device)\n",
    "        real_A = Variable(input.type(Tensor)).to(device)\n",
    "        real_B = Variable(target.type(Tensor)).to(device)\n",
    "        output = generator(real_A)  \n",
    "        psnr_test+=calculate_psnr(target, output)\n",
    "        ot = output.flatten().cpu()\n",
    "        tt = target.flatten().cpu()\n",
    "        ssim_test+=ssim(ot.detach().numpy(), tt.detach().numpy())\n",
    "psnr_test/= len(test_loader_nu.dataset)\n",
    "ssim_test/=len(test_loader_nu.dataset)\n",
    "print(\"PSNR for test dataset: {:.2f}\", psnr_test)\n",
    "print(\"SSIM for test dataset: {:.2f}\", ssim_test)"
   ]
  },
  {
   "cell_type": "code",
   "execution_count": null,
   "metadata": {},
   "outputs": [],
   "source": []
  }
 ],
 "metadata": {
  "kernelspec": {
   "display_name": "Python 3",
   "language": "python",
   "name": "python3"
  },
  "language_info": {
   "codemirror_mode": {
    "name": "ipython",
    "version": 3
   },
   "file_extension": ".py",
   "mimetype": "text/x-python",
   "name": "python",
   "nbconvert_exporter": "python",
   "pygments_lexer": "ipython3",
   "version": "3.8.6"
  }
 },
 "nbformat": 4,
 "nbformat_minor": 4
}
